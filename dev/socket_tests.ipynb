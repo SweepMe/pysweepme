{
 "cells": [
  {
   "cell_type": "code",
   "execution_count": null,
   "metadata": {},
   "outputs": [],
   "source": [
    "import re\n",
    "from typing import List, Tuple\n",
    "port = \"127.0.0.1:2333\"\n",
    "\n",
    "\n",
    "\n",
    "def is_IP(port_str) ->Tuple[bool, str, int]:\n",
    "    port_str = port_str.strip()\n",
    "    result = re.search(\"(\\d{0,3}).(\\d{0,3}).(\\d{0,3}).(\\d{0,3}):(\\d{0,4})\", port_str)\n",
    "\n",
    "    if not result:\n",
    "        return False, None, None\n",
    "    \n",
    "    for i in range(1,5):\n",
    "        if int(result.group(i)) <=255:\n",
    "            continue\n",
    "        else:\n",
    "            return False, None, None\n",
    "\n",
    "    if not 0<int(result.group(5))<=65535:\n",
    "        return False, None, None\n",
    "\n",
    "    ip = \".\".join([result.group(i) for i in range(1,5)])\n",
    "    host = result.group(5)\n",
    "\n",
    "    return True, ip, host\n",
    "\n",
    "\n",
    "print(is_IP(port)[0])\n",
    "y = is_IP(\"a\")\n"
   ]
  },
  {
   "attachments": {},
   "cell_type": "markdown",
   "metadata": {},
   "source": [
    "Pysweepme test"
   ]
  },
  {
   "cell_type": "code",
   "execution_count": 32,
   "metadata": {},
   "outputs": [
    {
     "name": "stdout",
     "output_type": "stream",
     "text": [
      "------------------------------------------------------------\n",
      "Time: 9.3.2023 12:10:59\n",
      "Message: Ports: Cannot create port object for 127.0.0.1:65432 as port type is not defined.\n",
      "Python Error:\n",
      "------------------------------------------------------------\n",
      "Unexpected exception formatting exception. Falling back to standard exception\n"
     ]
    },
    {
     "name": "stderr",
     "output_type": "stream",
     "text": [
      "NoneType: None\n",
      "Traceback (most recent call last):\n",
      "  File \"c:\\Users\\Ivan Ramirez\\AppData\\Local\\Programs\\Python\\Python38\\lib\\site-packages\\IPython\\core\\interactiveshell.py\", line 3398, in run_code\n",
      "    exec(code_obj, self.user_global_ns, self.user_ns)\n",
      "  File \"C:\\Users\\Ivan Ramirez\\AppData\\Local\\Temp\\ipykernel_28420\\1574277865.py\", line 11, in <cell line: 11>\n",
      "    dev.configure()\n",
      "  File \"C:\\Users\\Public\\Documents\\SweepMe!\\CustomDevices\\WaferProber-MPI_SENTIO\\main.py\", line 192, in configure\n",
      "    self.prober.move_chuck_separation()\n",
      "AttributeError: 'Device' object has no attribute 'prober'\n",
      "\n",
      "During handling of the above exception, another exception occurred:\n",
      "\n",
      "Traceback (most recent call last):\n",
      "  File \"c:\\Users\\Ivan Ramirez\\AppData\\Local\\Programs\\Python\\Python38\\lib\\site-packages\\IPython\\core\\interactiveshell.py\", line 1993, in showtraceback\n",
      "    stb = self.InteractiveTB.structured_traceback(\n",
      "  File \"c:\\Users\\Ivan Ramirez\\AppData\\Local\\Programs\\Python\\Python38\\lib\\site-packages\\IPython\\core\\ultratb.py\", line 1118, in structured_traceback\n",
      "    return FormattedTB.structured_traceback(\n",
      "  File \"c:\\Users\\Ivan Ramirez\\AppData\\Local\\Programs\\Python\\Python38\\lib\\site-packages\\IPython\\core\\ultratb.py\", line 1012, in structured_traceback\n",
      "    return VerboseTB.structured_traceback(\n",
      "  File \"c:\\Users\\Ivan Ramirez\\AppData\\Local\\Programs\\Python\\Python38\\lib\\site-packages\\IPython\\core\\ultratb.py\", line 865, in structured_traceback\n",
      "    formatted_exception = self.format_exception_as_a_whole(etype, evalue, etb, number_of_lines_of_context,\n",
      "  File \"c:\\Users\\Ivan Ramirez\\AppData\\Local\\Programs\\Python\\Python38\\lib\\site-packages\\IPython\\core\\ultratb.py\", line 818, in format_exception_as_a_whole\n",
      "    frames.append(self.format_record(r))\n",
      "  File \"c:\\Users\\Ivan Ramirez\\AppData\\Local\\Programs\\Python\\Python38\\lib\\site-packages\\IPython\\core\\ultratb.py\", line 736, in format_record\n",
      "    result += ''.join(_format_traceback_lines(frame_info.lines, Colors, self.has_colors, lvals))\n",
      "  File \"c:\\Users\\Ivan Ramirez\\AppData\\Local\\Programs\\Python\\Python38\\lib\\site-packages\\stack_data\\utils.py\", line 145, in cached_property_wrapper\n",
      "    value = obj.__dict__[self.func.__name__] = self.func(obj)\n",
      "  File \"c:\\Users\\Ivan Ramirez\\AppData\\Local\\Programs\\Python\\Python38\\lib\\site-packages\\stack_data\\core.py\", line 698, in lines\n",
      "    pieces = self.included_pieces\n",
      "  File \"c:\\Users\\Ivan Ramirez\\AppData\\Local\\Programs\\Python\\Python38\\lib\\site-packages\\stack_data\\utils.py\", line 145, in cached_property_wrapper\n",
      "    value = obj.__dict__[self.func.__name__] = self.func(obj)\n",
      "  File \"c:\\Users\\Ivan Ramirez\\AppData\\Local\\Programs\\Python\\Python38\\lib\\site-packages\\stack_data\\core.py\", line 649, in included_pieces\n",
      "    pos = scope_pieces.index(self.executing_piece)\n",
      "  File \"c:\\Users\\Ivan Ramirez\\AppData\\Local\\Programs\\Python\\Python38\\lib\\site-packages\\stack_data\\utils.py\", line 145, in cached_property_wrapper\n",
      "    value = obj.__dict__[self.func.__name__] = self.func(obj)\n",
      "  File \"c:\\Users\\Ivan Ramirez\\AppData\\Local\\Programs\\Python\\Python38\\lib\\site-packages\\stack_data\\core.py\", line 628, in executing_piece\n",
      "    return only(\n",
      "  File \"c:\\Users\\Ivan Ramirez\\AppData\\Local\\Programs\\Python\\Python38\\lib\\site-packages\\executing\\executing.py\", line 164, in only\n",
      "    raise NotOneValueFound('Expected one value, found 0')\n",
      "executing.executing.NotOneValueFound: Expected one value, found 0\n"
     ]
    }
   ],
   "source": [
    "import importlib, sys\n",
    "\n",
    "spec = importlib.util.spec_from_file_location(\"pysweepme\", r\"C:\\Users\\Ivan Ramirez\\Documents\\pysweepme\\src\\pysweepme\\__init__.py\")\n",
    "pysweepme = importlib.util.module_from_spec(spec)\n",
    "sys.modules[spec.name] = pysweepme\n",
    "spec.loader.exec_module(pysweepme)\n",
    "\n",
    "custom_devices_folder = pysweepme.get_path(\"CUSTOMDEVICES\")\n",
    "dev = pysweepme.get_device(\"WaferProber-MPI_SENTIO\", custom_devices_folder, port_string=\"127.0.0.1:65432\")\n",
    "dev.connect()\n",
    "dev.configure()\n"
   ]
  }
 ],
 "metadata": {
  "kernelspec": {
   "display_name": "Python 3",
   "language": "python",
   "name": "python3"
  },
  "language_info": {
   "codemirror_mode": {
    "name": "ipython",
    "version": 3
   },
   "file_extension": ".py",
   "mimetype": "text/x-python",
   "name": "python",
   "nbconvert_exporter": "python",
   "pygments_lexer": "ipython3",
   "version": "3.8.10"
  },
  "orig_nbformat": 4
 },
 "nbformat": 4,
 "nbformat_minor": 2
}

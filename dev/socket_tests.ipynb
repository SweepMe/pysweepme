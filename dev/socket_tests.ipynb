{
 "cells": [
  {
   "attachments": {},
   "cell_type": "markdown",
   "metadata": {},
   "source": [
    "Regex test"
   ]
  },
  {
   "cell_type": "code",
   "execution_count": null,
   "metadata": {},
   "outputs": [],
   "source": [
    "import re\n",
    "from typing import List, Tuple\n",
    "port = \"127.0.0.1:2333\"\n",
    "\n",
    "\n",
    "\n",
    "def is_IP(port_str) ->Tuple[bool, str, int]:\n",
    "    port_str = port_str.strip()\n",
    "    result = re.search(\"(\\d{0,3}).(\\d{0,3}).(\\d{0,3}).(\\d{0,3}):(\\d{0,4})\", port_str)\n",
    "\n",
    "    if not result:\n",
    "        return False, None, None\n",
    "    \n",
    "    for i in range(1,5):\n",
    "        if int(result.group(i)) <=255:\n",
    "            continue\n",
    "        else:\n",
    "            return False, None, None\n",
    "\n",
    "    if not 0<int(result.group(5))<=65535:\n",
    "        return False, None, None\n",
    "\n",
    "    ip = \".\".join([result.group(i) for i in range(1,5)])\n",
    "    host = result.group(5)\n",
    "\n",
    "    return True, ip, host\n",
    "\n",
    "\n",
    "print(is_IP(port)[0])\n",
    "y = is_IP(\"a\")\n"
   ]
  },
  {
   "attachments": {},
   "cell_type": "markdown",
   "metadata": {},
   "source": [
    "Pysweepme test with Chameleon laser"
   ]
  },
  {
   "cell_type": "code",
   "execution_count": 3,
   "metadata": {},
   "outputs": [
    {
     "name": "stdout",
     "output_type": "stream",
     "text": [
      "types SOCKETport SOCKET\n",
      "type: SOCKET\n",
      "type: SOCKET\n",
      "opening socket\n",
      "writing SHUTTER=1\n",
      "reading\n",
      "read  SHUTTER=1\n",
      "writing ALIGN=0\n",
      "reading\n",
      "read  ALIGN=0\n"
     ]
    }
   ],
   "source": [
    "import importlib, sys\n",
    "\n",
    "spec = importlib.util.spec_from_file_location(\"pysweepme\", r\"C:\\Users\\Ivan Ramirez\\Documents\\pysweepme\\src\\pysweepme\\__init__.py\")\n",
    "pysweepme = importlib.util.module_from_spec(spec)\n",
    "sys.modules[spec.name] = pysweepme\n",
    "spec.loader.exec_module(pysweepme)\n",
    "importlib.reload(pysweepme)\n",
    "\n",
    "custom_devices_folder = pysweepme.get_path(\"CUSTOMDEVICES\")\n",
    "dev = pysweepme.get_device(\"Switch-Coherent_Chameleon\", custom_devices_folder, port_string=\"127.0.0.1:65432\")\n",
    "dev.connect()\n",
    "dev.configure()\n"
   ]
  }
 ],
 "metadata": {
  "kernelspec": {
   "display_name": "Python 3",
   "language": "python",
   "name": "python3"
  },
  "language_info": {
   "codemirror_mode": {
    "name": "ipython",
    "version": 3
   },
   "file_extension": ".py",
   "mimetype": "text/x-python",
   "name": "python",
   "nbconvert_exporter": "python",
   "pygments_lexer": "ipython3",
   "version": "3.8.10"
  },
  "orig_nbformat": 4
 },
 "nbformat": 4,
 "nbformat_minor": 2
}
